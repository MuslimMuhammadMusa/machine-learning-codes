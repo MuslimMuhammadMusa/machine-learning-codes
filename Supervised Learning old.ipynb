{
 "cells": [
  {
   "cell_type": "code",
   "execution_count": 2,
   "id": "500aa386-d08f-4120-ba87-0c673f14bf1d",
   "metadata": {},
   "outputs": [],
   "source": [
    "import pandas as pd\n",
    "\n",
    "from sklearn.model_selection import train_test_split\n",
    "from sklearn.tree import DecisionTreeClassifier\n",
    "from sklearn import preprocessing\n",
    "from sklearn.metrics import confusion_matrix\n",
    "from sklearn.metrics import accuracy_score,classification_report"
   ]
  },
  {
   "cell_type": "code",
   "execution_count": null,
   "id": "cbe1c33b-99c5-4385-ac8d-d3eeb690a5a0",
   "metadata": {},
   "outputs": [],
   "source": []
  },
  {
   "cell_type": "code",
   "execution_count": 3,
   "id": "36cd93d2-c3ea-48ef-8acf-6c717f5b9cc7",
   "metadata": {},
   "outputs": [],
   "source": [
    "df = pd.read_csv('./dataset/titanic data.csv')\n",
    "\n",
    "le = preprocessing.LabelEncoder()\n",
    "\n",
    "for i in df.columns:\n",
    "    df[i] = le.fit_transform(df[i])\n",
    "df = df.fillna(0)  \n",
    "#df.corrwith(df['Survived']).sort_values(ascending=True).plot(kind='bar')\n",
    "\n"
   ]
  },
  {
   "cell_type": "code",
   "execution_count": 4,
   "id": "086c286a-7ba0-4ed2-b63f-ca745e50b87e",
   "metadata": {},
   "outputs": [
    {
     "name": "stdout",
     "output_type": "stream",
     "text": [
      "[[105   0]\n",
      " [  0  74]]\n",
      "1.0\n",
      "              precision    recall  f1-score   support\n",
      "\n",
      "           0       1.00      1.00      1.00       105\n",
      "           1       1.00      1.00      1.00        74\n",
      "\n",
      "    accuracy                           1.00       179\n",
      "   macro avg       1.00      1.00      1.00       179\n",
      "weighted avg       1.00      1.00      1.00       179\n",
      "\n"
     ]
    }
   ],
   "source": [
    "X = df[df.columns[1:]]\n",
    "y = df['Survived']\n",
    "\n",
    "X_train, X_test, y_train, y_test = train_test_split(X, y, test_size=0.20)\n",
    "\n",
    "model1 = DecisionTreeClassifier()\n",
    "\n",
    "model1.fit(X_train,y_train)\n",
    "y_pred = model1.predict(X_test)\n",
    "\n",
    "\n",
    "conf = confusion_matrix(y_test,y_pred)\n",
    "print(conf)\n",
    "acc = accuracy_score(y_test,y_pred)\n",
    "print(acc)\n",
    "res = classification_report(y_test,y_pred)\n",
    "print(res)"
   ]
  },
  {
   "cell_type": "code",
   "execution_count": null,
   "id": "3300ef1b-3172-4db0-b98b-d73c8903d076",
   "metadata": {},
   "outputs": [],
   "source": []
  }
 ],
 "metadata": {
  "kernelspec": {
   "display_name": "Python 3 (ipykernel)",
   "language": "python",
   "name": "python3"
  },
  "language_info": {
   "codemirror_mode": {
    "name": "ipython",
    "version": 3
   },
   "file_extension": ".py",
   "mimetype": "text/x-python",
   "name": "python",
   "nbconvert_exporter": "python",
   "pygments_lexer": "ipython3",
   "version": "3.9.12"
  }
 },
 "nbformat": 4,
 "nbformat_minor": 5
}
