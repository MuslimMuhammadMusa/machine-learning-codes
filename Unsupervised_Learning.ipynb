{
 "cells": [
  {
   "cell_type": "code",
   "execution_count": 25,
   "metadata": {
    "id": "w-GBoYBaWtsQ"
   },
   "outputs": [],
   "source": [
    "import pandas as pd\n",
    "\n",
    "from  sklearn.cluster import KMeans\n",
    "\n",
    "from sklearn.decomposition import PCA"
   ]
  },
  {
   "cell_type": "code",
   "execution_count": 26,
   "metadata": {
    "id": "S1MVBXRuW07F"
   },
   "outputs": [],
   "source": [
    "df = pd.read_csv('C:/Users/Global Village/Desktop/Ai-211 lab final/titanic_dataset.csv')"
   ]
  },
  {
   "cell_type": "code",
   "execution_count": 27,
   "metadata": {
    "id": "U4q7WjFzW4kh"
   },
   "outputs": [],
   "source": [
    "df  = df.drop(columns='PassengerId')"
   ]
  },
  {
   "cell_type": "code",
   "execution_count": 28,
   "metadata": {
    "id": "X3OlRhLKW5-b"
   },
   "outputs": [],
   "source": [
    "from sklearn import preprocessing\n",
    "le = preprocessing.LabelEncoder()\n",
    "\n",
    "for i in df.columns:\n",
    "    df[i] = le.fit_transform(df[i])\n",
    "\n"
   ]
  },
  {
   "cell_type": "code",
   "execution_count": 29,
   "metadata": {
    "colab": {
     "base_uri": "https://localhost:8080/",
     "height": 129
    },
    "id": "jvApTB-vW7r9",
    "outputId": "e6a378af-f020-4ef1-95b2-c41adad77382"
   },
   "outputs": [
    {
     "name": "stderr",
     "output_type": "stream",
     "text": [
      "D:\\snakes\\lib\\site-packages\\sklearn\\cluster\\_kmeans.py:870: FutureWarning: The default value of `n_init` will change from 10 to 'auto' in 1.4. Set the value of `n_init` explicitly to suppress the warning\n",
      "  warnings.warn(\n"
     ]
    },
    {
     "data": {
      "text/html": [
       "<style>#sk-container-id-2 {color: black;background-color: white;}#sk-container-id-2 pre{padding: 0;}#sk-container-id-2 div.sk-toggleable {background-color: white;}#sk-container-id-2 label.sk-toggleable__label {cursor: pointer;display: block;width: 100%;margin-bottom: 0;padding: 0.3em;box-sizing: border-box;text-align: center;}#sk-container-id-2 label.sk-toggleable__label-arrow:before {content: \"▸\";float: left;margin-right: 0.25em;color: #696969;}#sk-container-id-2 label.sk-toggleable__label-arrow:hover:before {color: black;}#sk-container-id-2 div.sk-estimator:hover label.sk-toggleable__label-arrow:before {color: black;}#sk-container-id-2 div.sk-toggleable__content {max-height: 0;max-width: 0;overflow: hidden;text-align: left;background-color: #f0f8ff;}#sk-container-id-2 div.sk-toggleable__content pre {margin: 0.2em;color: black;border-radius: 0.25em;background-color: #f0f8ff;}#sk-container-id-2 input.sk-toggleable__control:checked~div.sk-toggleable__content {max-height: 200px;max-width: 100%;overflow: auto;}#sk-container-id-2 input.sk-toggleable__control:checked~label.sk-toggleable__label-arrow:before {content: \"▾\";}#sk-container-id-2 div.sk-estimator input.sk-toggleable__control:checked~label.sk-toggleable__label {background-color: #d4ebff;}#sk-container-id-2 div.sk-label input.sk-toggleable__control:checked~label.sk-toggleable__label {background-color: #d4ebff;}#sk-container-id-2 input.sk-hidden--visually {border: 0;clip: rect(1px 1px 1px 1px);clip: rect(1px, 1px, 1px, 1px);height: 1px;margin: -1px;overflow: hidden;padding: 0;position: absolute;width: 1px;}#sk-container-id-2 div.sk-estimator {font-family: monospace;background-color: #f0f8ff;border: 1px dotted black;border-radius: 0.25em;box-sizing: border-box;margin-bottom: 0.5em;}#sk-container-id-2 div.sk-estimator:hover {background-color: #d4ebff;}#sk-container-id-2 div.sk-parallel-item::after {content: \"\";width: 100%;border-bottom: 1px solid gray;flex-grow: 1;}#sk-container-id-2 div.sk-label:hover label.sk-toggleable__label {background-color: #d4ebff;}#sk-container-id-2 div.sk-serial::before {content: \"\";position: absolute;border-left: 1px solid gray;box-sizing: border-box;top: 0;bottom: 0;left: 50%;z-index: 0;}#sk-container-id-2 div.sk-serial {display: flex;flex-direction: column;align-items: center;background-color: white;padding-right: 0.2em;padding-left: 0.2em;position: relative;}#sk-container-id-2 div.sk-item {position: relative;z-index: 1;}#sk-container-id-2 div.sk-parallel {display: flex;align-items: stretch;justify-content: center;background-color: white;position: relative;}#sk-container-id-2 div.sk-item::before, #sk-container-id-2 div.sk-parallel-item::before {content: \"\";position: absolute;border-left: 1px solid gray;box-sizing: border-box;top: 0;bottom: 0;left: 50%;z-index: -1;}#sk-container-id-2 div.sk-parallel-item {display: flex;flex-direction: column;z-index: 1;position: relative;background-color: white;}#sk-container-id-2 div.sk-parallel-item:first-child::after {align-self: flex-end;width: 50%;}#sk-container-id-2 div.sk-parallel-item:last-child::after {align-self: flex-start;width: 50%;}#sk-container-id-2 div.sk-parallel-item:only-child::after {width: 0;}#sk-container-id-2 div.sk-dashed-wrapped {border: 1px dashed gray;margin: 0 0.4em 0.5em 0.4em;box-sizing: border-box;padding-bottom: 0.4em;background-color: white;}#sk-container-id-2 div.sk-label label {font-family: monospace;font-weight: bold;display: inline-block;line-height: 1.2em;}#sk-container-id-2 div.sk-label-container {text-align: center;}#sk-container-id-2 div.sk-container {/* jupyter's `normalize.less` sets `[hidden] { display: none; }` but bootstrap.min.css set `[hidden] { display: none !important; }` so we also need the `!important` here to be able to override the default hidden behavior on the sphinx rendered scikit-learn.org. See: https://github.com/scikit-learn/scikit-learn/issues/21755 */display: inline-block !important;position: relative;}#sk-container-id-2 div.sk-text-repr-fallback {display: none;}</style><div id=\"sk-container-id-2\" class=\"sk-top-container\"><div class=\"sk-text-repr-fallback\"><pre>KMeans(n_clusters=4)</pre><b>In a Jupyter environment, please rerun this cell to show the HTML representation or trust the notebook. <br />On GitHub, the HTML representation is unable to render, please try loading this page with nbviewer.org.</b></div><div class=\"sk-container\" hidden><div class=\"sk-item\"><div class=\"sk-estimator sk-toggleable\"><input class=\"sk-toggleable__control sk-hidden--visually\" id=\"sk-estimator-id-2\" type=\"checkbox\" checked><label for=\"sk-estimator-id-2\" class=\"sk-toggleable__label sk-toggleable__label-arrow\">KMeans</label><div class=\"sk-toggleable__content\"><pre>KMeans(n_clusters=4)</pre></div></div></div></div></div>"
      ],
      "text/plain": [
       "KMeans(n_clusters=4)"
      ]
     },
     "execution_count": 29,
     "metadata": {},
     "output_type": "execute_result"
    }
   ],
   "source": [
    "\n",
    "\n",
    "kmeans = KMeans(4)\n",
    "\n",
    "kmeans.fit(df)"
   ]
  },
  {
   "cell_type": "code",
   "execution_count": null,
   "metadata": {
    "id": "8ZzhvPRqea6n"
   },
   "outputs": [],
   "source": []
  },
  {
   "cell_type": "code",
   "execution_count": 30,
   "metadata": {
    "colab": {
     "base_uri": "https://localhost:8080/"
    },
    "id": "X-PFN4r2W-A8",
    "outputId": "8b856128-6b82-454f-8405-376cbbbd6d5b"
   },
   "outputs": [
    {
     "data": {
      "text/plain": [
       "array([3, 3, 3, 0, 3, 2, 2, 1, 3, 2, 1, 0, 1, 0, 1, 0, 1, 2, 2, 2, 0, 0,\n",
       "       2, 2, 1, 0, 0, 0, 2, 1, 1, 1, 0, 1, 1, 0, 2, 3, 2, 2, 3, 2, 3, 1,\n",
       "       0, 1, 1, 2, 2, 3, 2, 1, 3, 0, 2, 2, 1, 2, 1, 3, 2, 0, 3, 2, 1, 2,\n",
       "       1, 3, 0, 2, 3, 3, 3, 0, 0, 1, 2, 1, 0, 3, 2, 2, 2, 0, 3, 0, 3, 1,\n",
       "       0, 0, 0, 0, 3, 3, 3, 1, 3, 3, 0, 0, 1, 1, 1, 3, 0, 1, 2, 2, 1, 1,\n",
       "       2, 2, 0, 3, 0, 1, 3, 2, 3, 0, 3, 1, 2, 2, 1, 2, 1, 1, 2, 0, 3, 3,\n",
       "       1, 2, 1, 1, 2, 0, 1, 3, 0, 2, 3, 3, 0, 1, 3, 3, 2, 0, 3, 2, 1, 1,\n",
       "       1, 1, 3, 3, 2, 1, 3, 1, 0, 0, 2, 3, 0, 2, 3, 2, 2, 1, 3, 1, 2, 3,\n",
       "       1, 3, 0, 1, 1, 1, 0, 0, 2, 2, 1, 2, 3, 1, 2, 0, 3, 2, 3, 1, 1, 1,\n",
       "       1, 2, 2, 1, 0, 2, 3, 2, 0, 0, 3, 0, 3, 3, 1, 0, 3, 1, 3, 0, 0, 3,\n",
       "       1, 0, 0, 1, 0, 3, 1, 1, 0, 1, 3, 2, 2, 0, 1, 3, 0, 3, 2, 3, 2, 1,\n",
       "       3, 1, 0, 2, 2, 0, 0, 0, 1, 2, 2, 1, 1, 2, 1, 0, 1, 2, 1, 0, 2, 0,\n",
       "       3, 1, 2, 2, 3, 3, 0, 1, 2, 1, 3, 0, 2, 2, 1, 3, 0, 2, 2, 3, 2, 1,\n",
       "       2, 1, 0, 3, 0, 0, 1, 3, 1, 1, 0, 0, 2, 3, 3, 1, 3, 0, 1, 0, 0, 1,\n",
       "       3, 3, 0, 1, 2, 3, 3, 1, 0, 2, 1, 2, 3, 3, 2, 0, 1, 1, 2, 0, 3, 0,\n",
       "       1, 2, 3, 2, 3, 3, 2, 0, 3, 0, 2, 0, 0, 2, 0, 0, 2, 3, 3, 0, 1, 2,\n",
       "       0, 3, 2, 2, 0, 0, 2, 2, 2, 1, 0, 3, 1, 3, 2, 2, 0, 3, 0, 2, 0, 1,\n",
       "       1, 1, 1, 2, 0, 3, 3, 2, 1, 0, 1, 3, 3, 0, 1, 1, 0, 3, 0, 1, 1, 3,\n",
       "       1, 2, 2, 2, 1, 0, 3, 3, 2, 0, 2, 2, 0, 1, 1, 3, 2, 0, 1, 2, 0, 2,\n",
       "       2, 2, 3, 3, 2, 0, 1, 1, 0, 2, 3, 1, 0, 1, 1, 3, 2, 0, 3, 2, 0, 3,\n",
       "       3, 0, 2, 2, 3, 0, 2, 2, 0, 2, 1, 3, 0, 0, 1, 3, 2, 0, 1, 1, 0, 1,\n",
       "       0, 2, 1, 3, 0, 2, 1, 0, 2, 0, 1, 3, 1, 0, 2, 0, 3, 0, 3, 0, 1, 1,\n",
       "       0, 1, 0, 0, 1, 3, 3, 1, 2, 3, 1, 2, 3, 1, 0, 1, 0, 3, 2, 3, 2, 1,\n",
       "       2, 0, 1, 2, 3, 1, 1, 1, 3, 1, 1, 1, 0, 1, 2, 1, 2, 0, 0, 3, 1, 3,\n",
       "       2, 0, 2, 2, 0, 2, 0, 3, 0, 1, 1, 0, 3, 0, 0, 0, 3, 1, 0, 1, 3, 3,\n",
       "       2, 2, 2, 2, 2, 2, 0, 1, 2, 2, 1, 1, 2, 1, 1, 3, 2, 1, 0, 3, 3, 0,\n",
       "       3, 0, 1, 1, 0, 2, 0, 3, 0, 2, 0, 2, 2, 2, 0, 0, 0, 1, 1, 1, 3, 3,\n",
       "       3, 2, 2, 3, 0, 3, 0, 1, 0, 1, 0, 1, 3, 0, 1, 1, 0, 3, 1, 3, 3, 0,\n",
       "       0, 1, 0, 0, 2, 0, 2, 3, 3, 1, 2, 2, 3, 2, 0, 1, 2, 2, 2, 0, 1, 3,\n",
       "       2, 1, 3, 1, 2, 0, 0, 3, 3, 2, 1, 1, 1, 0, 3, 2, 3, 3, 1, 3, 0, 1,\n",
       "       3, 0, 3, 3, 1, 3, 0, 2, 3, 2, 0, 3, 1, 2, 2, 3, 2, 1, 3, 3, 2, 3,\n",
       "       1, 3, 0, 1, 2, 3, 3, 2, 0, 3, 2, 2, 2, 0, 3, 1, 2, 3, 3, 1, 0, 3,\n",
       "       3, 2, 0, 3, 0, 2, 1, 0, 2, 1, 0, 2, 3, 2, 1, 3, 0, 3, 0, 0, 0, 2,\n",
       "       2, 1, 0, 3, 0, 0, 2, 0, 2, 1, 3, 1, 3, 1, 0, 0, 1, 1, 1, 3, 3, 2,\n",
       "       2, 0, 2, 1, 2, 3, 0, 0, 3, 0, 1, 2, 3, 1, 0, 0, 3, 0, 0, 1, 1, 3,\n",
       "       2, 3, 1, 0, 0, 2, 1, 3, 3, 2, 0, 0, 2, 3, 3, 3, 2, 1, 3, 3, 0, 0,\n",
       "       1, 3, 3, 2, 2, 1, 0, 2, 2, 3, 0, 2, 3, 3, 0, 2, 2, 0, 0, 1, 2, 0,\n",
       "       1, 0, 3, 1, 3, 2, 0, 2, 2, 1, 2, 3, 2, 1, 1, 2, 2, 2, 2, 0, 0, 3,\n",
       "       2, 1, 0, 2, 3, 1, 2, 2, 0, 3, 1, 1, 0, 0, 0, 2, 0, 1, 0, 3, 1, 0,\n",
       "       0, 2, 3, 0, 2, 1, 0, 0, 3, 1, 2, 3, 3, 0, 3, 2, 3, 2, 3, 1, 1, 2,\n",
       "       2, 1, 3, 3, 1, 1, 2, 0, 3, 0, 3])"
      ]
     },
     "execution_count": 30,
     "metadata": {},
     "output_type": "execute_result"
    }
   ],
   "source": [
    "kmeans.labels_"
   ]
  },
  {
   "cell_type": "code",
   "execution_count": 31,
   "metadata": {
    "id": "E0YW1WdXW_Or"
   },
   "outputs": [],
   "source": [
    "df['clusters'] = kmeans.labels_"
   ]
  },
  {
   "cell_type": "code",
   "execution_count": 32,
   "metadata": {
    "colab": {
     "base_uri": "https://localhost:8080/",
     "height": 423
    },
    "id": "Rv7WfNZyfium",
    "outputId": "3d5da22b-700a-470a-e8b7-4869ab9dba15"
   },
   "outputs": [
    {
     "data": {
      "text/html": [
       "<div>\n",
       "<style scoped>\n",
       "    .dataframe tbody tr th:only-of-type {\n",
       "        vertical-align: middle;\n",
       "    }\n",
       "\n",
       "    .dataframe tbody tr th {\n",
       "        vertical-align: top;\n",
       "    }\n",
       "\n",
       "    .dataframe thead th {\n",
       "        text-align: right;\n",
       "    }\n",
       "</style>\n",
       "<table border=\"1\" class=\"dataframe\">\n",
       "  <thead>\n",
       "    <tr style=\"text-align: right;\">\n",
       "      <th></th>\n",
       "      <th>Survived</th>\n",
       "      <th>Pclass</th>\n",
       "      <th>Name</th>\n",
       "      <th>Sex</th>\n",
       "      <th>Age</th>\n",
       "      <th>SibSp</th>\n",
       "      <th>Parch</th>\n",
       "      <th>Ticket</th>\n",
       "      <th>Fare</th>\n",
       "      <th>Cabin</th>\n",
       "      <th>Embarked</th>\n",
       "      <th>clusters</th>\n",
       "    </tr>\n",
       "  </thead>\n",
       "  <tbody>\n",
       "    <tr>\n",
       "      <th>0</th>\n",
       "      <td>0</td>\n",
       "      <td>2</td>\n",
       "      <td>108</td>\n",
       "      <td>1</td>\n",
       "      <td>28</td>\n",
       "      <td>1</td>\n",
       "      <td>0</td>\n",
       "      <td>523</td>\n",
       "      <td>18</td>\n",
       "      <td>147</td>\n",
       "      <td>2</td>\n",
       "      <td>3</td>\n",
       "    </tr>\n",
       "    <tr>\n",
       "      <th>1</th>\n",
       "      <td>1</td>\n",
       "      <td>0</td>\n",
       "      <td>190</td>\n",
       "      <td>0</td>\n",
       "      <td>51</td>\n",
       "      <td>1</td>\n",
       "      <td>0</td>\n",
       "      <td>596</td>\n",
       "      <td>207</td>\n",
       "      <td>81</td>\n",
       "      <td>0</td>\n",
       "      <td>3</td>\n",
       "    </tr>\n",
       "    <tr>\n",
       "      <th>2</th>\n",
       "      <td>1</td>\n",
       "      <td>2</td>\n",
       "      <td>353</td>\n",
       "      <td>0</td>\n",
       "      <td>34</td>\n",
       "      <td>0</td>\n",
       "      <td>0</td>\n",
       "      <td>669</td>\n",
       "      <td>41</td>\n",
       "      <td>147</td>\n",
       "      <td>2</td>\n",
       "      <td>3</td>\n",
       "    </tr>\n",
       "    <tr>\n",
       "      <th>3</th>\n",
       "      <td>1</td>\n",
       "      <td>0</td>\n",
       "      <td>272</td>\n",
       "      <td>0</td>\n",
       "      <td>47</td>\n",
       "      <td>1</td>\n",
       "      <td>0</td>\n",
       "      <td>49</td>\n",
       "      <td>189</td>\n",
       "      <td>55</td>\n",
       "      <td>2</td>\n",
       "      <td>0</td>\n",
       "    </tr>\n",
       "    <tr>\n",
       "      <th>4</th>\n",
       "      <td>0</td>\n",
       "      <td>2</td>\n",
       "      <td>15</td>\n",
       "      <td>1</td>\n",
       "      <td>47</td>\n",
       "      <td>0</td>\n",
       "      <td>0</td>\n",
       "      <td>472</td>\n",
       "      <td>43</td>\n",
       "      <td>147</td>\n",
       "      <td>2</td>\n",
       "      <td>3</td>\n",
       "    </tr>\n",
       "    <tr>\n",
       "      <th>...</th>\n",
       "      <td>...</td>\n",
       "      <td>...</td>\n",
       "      <td>...</td>\n",
       "      <td>...</td>\n",
       "      <td>...</td>\n",
       "      <td>...</td>\n",
       "      <td>...</td>\n",
       "      <td>...</td>\n",
       "      <td>...</td>\n",
       "      <td>...</td>\n",
       "      <td>...</td>\n",
       "      <td>...</td>\n",
       "    </tr>\n",
       "    <tr>\n",
       "      <th>886</th>\n",
       "      <td>0</td>\n",
       "      <td>1</td>\n",
       "      <td>548</td>\n",
       "      <td>1</td>\n",
       "      <td>35</td>\n",
       "      <td>0</td>\n",
       "      <td>0</td>\n",
       "      <td>101</td>\n",
       "      <td>85</td>\n",
       "      <td>147</td>\n",
       "      <td>2</td>\n",
       "      <td>2</td>\n",
       "    </tr>\n",
       "    <tr>\n",
       "      <th>887</th>\n",
       "      <td>1</td>\n",
       "      <td>0</td>\n",
       "      <td>303</td>\n",
       "      <td>0</td>\n",
       "      <td>24</td>\n",
       "      <td>0</td>\n",
       "      <td>0</td>\n",
       "      <td>14</td>\n",
       "      <td>153</td>\n",
       "      <td>30</td>\n",
       "      <td>2</td>\n",
       "      <td>0</td>\n",
       "    </tr>\n",
       "    <tr>\n",
       "      <th>888</th>\n",
       "      <td>0</td>\n",
       "      <td>2</td>\n",
       "      <td>413</td>\n",
       "      <td>0</td>\n",
       "      <td>88</td>\n",
       "      <td>1</td>\n",
       "      <td>2</td>\n",
       "      <td>675</td>\n",
       "      <td>131</td>\n",
       "      <td>147</td>\n",
       "      <td>2</td>\n",
       "      <td>3</td>\n",
       "    </tr>\n",
       "    <tr>\n",
       "      <th>889</th>\n",
       "      <td>1</td>\n",
       "      <td>0</td>\n",
       "      <td>81</td>\n",
       "      <td>1</td>\n",
       "      <td>34</td>\n",
       "      <td>0</td>\n",
       "      <td>0</td>\n",
       "      <td>8</td>\n",
       "      <td>153</td>\n",
       "      <td>60</td>\n",
       "      <td>0</td>\n",
       "      <td>0</td>\n",
       "    </tr>\n",
       "    <tr>\n",
       "      <th>890</th>\n",
       "      <td>0</td>\n",
       "      <td>2</td>\n",
       "      <td>220</td>\n",
       "      <td>1</td>\n",
       "      <td>42</td>\n",
       "      <td>0</td>\n",
       "      <td>0</td>\n",
       "      <td>466</td>\n",
       "      <td>30</td>\n",
       "      <td>147</td>\n",
       "      <td>1</td>\n",
       "      <td>3</td>\n",
       "    </tr>\n",
       "  </tbody>\n",
       "</table>\n",
       "<p>891 rows × 12 columns</p>\n",
       "</div>"
      ],
      "text/plain": [
       "     Survived  Pclass  Name  Sex  Age  SibSp  Parch  Ticket  Fare  Cabin  \\\n",
       "0           0       2   108    1   28      1      0     523    18    147   \n",
       "1           1       0   190    0   51      1      0     596   207     81   \n",
       "2           1       2   353    0   34      0      0     669    41    147   \n",
       "3           1       0   272    0   47      1      0      49   189     55   \n",
       "4           0       2    15    1   47      0      0     472    43    147   \n",
       "..        ...     ...   ...  ...  ...    ...    ...     ...   ...    ...   \n",
       "886         0       1   548    1   35      0      0     101    85    147   \n",
       "887         1       0   303    0   24      0      0      14   153     30   \n",
       "888         0       2   413    0   88      1      2     675   131    147   \n",
       "889         1       0    81    1   34      0      0       8   153     60   \n",
       "890         0       2   220    1   42      0      0     466    30    147   \n",
       "\n",
       "     Embarked  clusters  \n",
       "0           2         3  \n",
       "1           0         3  \n",
       "2           2         3  \n",
       "3           2         0  \n",
       "4           2         3  \n",
       "..        ...       ...  \n",
       "886         2         2  \n",
       "887         2         0  \n",
       "888         2         3  \n",
       "889         0         0  \n",
       "890         1         3  \n",
       "\n",
       "[891 rows x 12 columns]"
      ]
     },
     "execution_count": 32,
     "metadata": {},
     "output_type": "execute_result"
    }
   ],
   "source": [
    "df"
   ]
  },
  {
   "cell_type": "code",
   "execution_count": 33,
   "metadata": {
    "id": "Ps1MSl46fjgU"
   },
   "outputs": [],
   "source": [
    "import matplotlib.pyplot as plt\n",
    "import seaborn as sns\n",
    "def visualize_clusters(cluster_column) :\n",
    "    '''\n",
    "    Input - column in all_data dataframe which contains cluster no. for the observations\n",
    "    '''\n",
    "     ##start code here\n",
    "    for_x = all_data['pc1']\n",
    "    for_y = all_data['pc2']\n",
    "    sns.scatterplot(x=for_x, y=for_y, hue=cluster_column, \n",
    "                data=all_data, s=20);\n",
    "    plt.legend(loc='lower right');\n",
    "    ##end code here"
   ]
  },
  {
   "cell_type": "code",
   "execution_count": 11,
   "metadata": {
    "id": "uHr3kZDtf8SR"
   },
   "outputs": [],
   "source": [
    "\n",
    "    \n",
    "pca = PCA(n_components=2)\n",
    "principalComponents = pca.fit_transform(df)\n",
    "\n"
   ]
  },
  {
   "cell_type": "code",
   "execution_count": null,
   "metadata": {
    "id": "IO-ciQhagNkg"
   },
   "outputs": [],
   "source": []
  },
  {
   "cell_type": "code",
   "execution_count": 12,
   "metadata": {
    "id": "diXA65qsgNo2"
   },
   "outputs": [],
   "source": [
    "principalDf = pd.DataFrame(data = principalComponents, columns = ['pc1', 'pc2'])"
   ]
  },
  {
   "cell_type": "code",
   "execution_count": 13,
   "metadata": {
    "colab": {
     "base_uri": "https://localhost:8080/",
     "height": 423
    },
    "id": "CH2uhl2bgUSP",
    "outputId": "d8c96a48-e1df-4ef7-86eb-5940cd23abb6"
   },
   "outputs": [
    {
     "data": {
      "text/html": [
       "<div>\n",
       "<style scoped>\n",
       "    .dataframe tbody tr th:only-of-type {\n",
       "        vertical-align: middle;\n",
       "    }\n",
       "\n",
       "    .dataframe tbody tr th {\n",
       "        vertical-align: top;\n",
       "    }\n",
       "\n",
       "    .dataframe thead th {\n",
       "        text-align: right;\n",
       "    }\n",
       "</style>\n",
       "<table border=\"1\" class=\"dataframe\">\n",
       "  <thead>\n",
       "    <tr style=\"text-align: right;\">\n",
       "      <th></th>\n",
       "      <th>pc1</th>\n",
       "      <th>pc2</th>\n",
       "    </tr>\n",
       "  </thead>\n",
       "  <tbody>\n",
       "    <tr>\n",
       "      <th>0</th>\n",
       "      <td>-316.138795</td>\n",
       "      <td>-222.264482</td>\n",
       "    </tr>\n",
       "    <tr>\n",
       "      <th>1</th>\n",
       "      <td>-231.670801</td>\n",
       "      <td>-271.234412</td>\n",
       "    </tr>\n",
       "    <tr>\n",
       "      <th>2</th>\n",
       "      <td>-58.759840</td>\n",
       "      <td>-341.803978</td>\n",
       "    </tr>\n",
       "    <tr>\n",
       "      <th>3</th>\n",
       "      <td>-202.361650</td>\n",
       "      <td>279.371012</td>\n",
       "    </tr>\n",
       "    <tr>\n",
       "      <th>4</th>\n",
       "      <td>-413.716895</td>\n",
       "      <td>-178.952337</td>\n",
       "    </tr>\n",
       "    <tr>\n",
       "      <th>...</th>\n",
       "      <td>...</td>\n",
       "      <td>...</td>\n",
       "    </tr>\n",
       "    <tr>\n",
       "      <th>886</th>\n",
       "      <td>80.150446</td>\n",
       "      <td>243.489146</td>\n",
       "    </tr>\n",
       "    <tr>\n",
       "      <th>887</th>\n",
       "      <td>-174.836833</td>\n",
       "      <td>315.764238</td>\n",
       "    </tr>\n",
       "    <tr>\n",
       "      <th>888</th>\n",
       "      <td>0.662292</td>\n",
       "      <td>-335.760337</td>\n",
       "    </tr>\n",
       "    <tr>\n",
       "      <th>889</th>\n",
       "      <td>-395.781653</td>\n",
       "      <td>298.866282</td>\n",
       "    </tr>\n",
       "    <tr>\n",
       "      <th>890</th>\n",
       "      <td>-210.141331</td>\n",
       "      <td>-153.991409</td>\n",
       "    </tr>\n",
       "  </tbody>\n",
       "</table>\n",
       "<p>891 rows × 2 columns</p>\n",
       "</div>"
      ],
      "text/plain": [
       "            pc1         pc2\n",
       "0   -316.138795 -222.264482\n",
       "1   -231.670801 -271.234412\n",
       "2    -58.759840 -341.803978\n",
       "3   -202.361650  279.371012\n",
       "4   -413.716895 -178.952337\n",
       "..          ...         ...\n",
       "886   80.150446  243.489146\n",
       "887 -174.836833  315.764238\n",
       "888    0.662292 -335.760337\n",
       "889 -395.781653  298.866282\n",
       "890 -210.141331 -153.991409\n",
       "\n",
       "[891 rows x 2 columns]"
      ]
     },
     "execution_count": 13,
     "metadata": {},
     "output_type": "execute_result"
    }
   ],
   "source": [
    "principalDf"
   ]
  },
  {
   "cell_type": "code",
   "execution_count": 41,
   "metadata": {
    "id": "VHEecHvSf-18"
   },
   "outputs": [],
   "source": [
    "\n",
    "all_data = pd.concat([ df , principalDf], axis = 1)\n"
   ]
  },
  {
   "cell_type": "code",
   "execution_count": 42,
   "metadata": {
    "colab": {
     "base_uri": "https://localhost:8080/",
     "height": 423
    },
    "id": "LkAEby82gZdn",
    "outputId": "f92f79bb-1dc0-42fb-e000-db108cbea777"
   },
   "outputs": [
    {
     "data": {
      "text/html": [
       "<div>\n",
       "<style scoped>\n",
       "    .dataframe tbody tr th:only-of-type {\n",
       "        vertical-align: middle;\n",
       "    }\n",
       "\n",
       "    .dataframe tbody tr th {\n",
       "        vertical-align: top;\n",
       "    }\n",
       "\n",
       "    .dataframe thead th {\n",
       "        text-align: right;\n",
       "    }\n",
       "</style>\n",
       "<table border=\"1\" class=\"dataframe\">\n",
       "  <thead>\n",
       "    <tr style=\"text-align: right;\">\n",
       "      <th></th>\n",
       "      <th>Survived</th>\n",
       "      <th>Pclass</th>\n",
       "      <th>Name</th>\n",
       "      <th>Sex</th>\n",
       "      <th>Age</th>\n",
       "      <th>SibSp</th>\n",
       "      <th>Parch</th>\n",
       "      <th>Ticket</th>\n",
       "      <th>Fare</th>\n",
       "      <th>Cabin</th>\n",
       "      <th>Embarked</th>\n",
       "      <th>clusters</th>\n",
       "      <th>pc1</th>\n",
       "      <th>pc2</th>\n",
       "    </tr>\n",
       "  </thead>\n",
       "  <tbody>\n",
       "    <tr>\n",
       "      <th>0</th>\n",
       "      <td>0</td>\n",
       "      <td>2</td>\n",
       "      <td>108</td>\n",
       "      <td>1</td>\n",
       "      <td>28</td>\n",
       "      <td>1</td>\n",
       "      <td>0</td>\n",
       "      <td>523</td>\n",
       "      <td>18</td>\n",
       "      <td>147</td>\n",
       "      <td>2</td>\n",
       "      <td>3</td>\n",
       "      <td>-316.138795</td>\n",
       "      <td>-222.264482</td>\n",
       "    </tr>\n",
       "    <tr>\n",
       "      <th>1</th>\n",
       "      <td>1</td>\n",
       "      <td>0</td>\n",
       "      <td>190</td>\n",
       "      <td>0</td>\n",
       "      <td>51</td>\n",
       "      <td>1</td>\n",
       "      <td>0</td>\n",
       "      <td>596</td>\n",
       "      <td>207</td>\n",
       "      <td>81</td>\n",
       "      <td>0</td>\n",
       "      <td>3</td>\n",
       "      <td>-231.670801</td>\n",
       "      <td>-271.234412</td>\n",
       "    </tr>\n",
       "    <tr>\n",
       "      <th>2</th>\n",
       "      <td>1</td>\n",
       "      <td>2</td>\n",
       "      <td>353</td>\n",
       "      <td>0</td>\n",
       "      <td>34</td>\n",
       "      <td>0</td>\n",
       "      <td>0</td>\n",
       "      <td>669</td>\n",
       "      <td>41</td>\n",
       "      <td>147</td>\n",
       "      <td>2</td>\n",
       "      <td>3</td>\n",
       "      <td>-58.759840</td>\n",
       "      <td>-341.803978</td>\n",
       "    </tr>\n",
       "    <tr>\n",
       "      <th>3</th>\n",
       "      <td>1</td>\n",
       "      <td>0</td>\n",
       "      <td>272</td>\n",
       "      <td>0</td>\n",
       "      <td>47</td>\n",
       "      <td>1</td>\n",
       "      <td>0</td>\n",
       "      <td>49</td>\n",
       "      <td>189</td>\n",
       "      <td>55</td>\n",
       "      <td>2</td>\n",
       "      <td>0</td>\n",
       "      <td>-202.361650</td>\n",
       "      <td>279.371012</td>\n",
       "    </tr>\n",
       "    <tr>\n",
       "      <th>4</th>\n",
       "      <td>0</td>\n",
       "      <td>2</td>\n",
       "      <td>15</td>\n",
       "      <td>1</td>\n",
       "      <td>47</td>\n",
       "      <td>0</td>\n",
       "      <td>0</td>\n",
       "      <td>472</td>\n",
       "      <td>43</td>\n",
       "      <td>147</td>\n",
       "      <td>2</td>\n",
       "      <td>3</td>\n",
       "      <td>-413.716895</td>\n",
       "      <td>-178.952337</td>\n",
       "    </tr>\n",
       "    <tr>\n",
       "      <th>...</th>\n",
       "      <td>...</td>\n",
       "      <td>...</td>\n",
       "      <td>...</td>\n",
       "      <td>...</td>\n",
       "      <td>...</td>\n",
       "      <td>...</td>\n",
       "      <td>...</td>\n",
       "      <td>...</td>\n",
       "      <td>...</td>\n",
       "      <td>...</td>\n",
       "      <td>...</td>\n",
       "      <td>...</td>\n",
       "      <td>...</td>\n",
       "      <td>...</td>\n",
       "    </tr>\n",
       "    <tr>\n",
       "      <th>886</th>\n",
       "      <td>0</td>\n",
       "      <td>1</td>\n",
       "      <td>548</td>\n",
       "      <td>1</td>\n",
       "      <td>35</td>\n",
       "      <td>0</td>\n",
       "      <td>0</td>\n",
       "      <td>101</td>\n",
       "      <td>85</td>\n",
       "      <td>147</td>\n",
       "      <td>2</td>\n",
       "      <td>2</td>\n",
       "      <td>80.150446</td>\n",
       "      <td>243.489146</td>\n",
       "    </tr>\n",
       "    <tr>\n",
       "      <th>887</th>\n",
       "      <td>1</td>\n",
       "      <td>0</td>\n",
       "      <td>303</td>\n",
       "      <td>0</td>\n",
       "      <td>24</td>\n",
       "      <td>0</td>\n",
       "      <td>0</td>\n",
       "      <td>14</td>\n",
       "      <td>153</td>\n",
       "      <td>30</td>\n",
       "      <td>2</td>\n",
       "      <td>0</td>\n",
       "      <td>-174.836833</td>\n",
       "      <td>315.764238</td>\n",
       "    </tr>\n",
       "    <tr>\n",
       "      <th>888</th>\n",
       "      <td>0</td>\n",
       "      <td>2</td>\n",
       "      <td>413</td>\n",
       "      <td>0</td>\n",
       "      <td>88</td>\n",
       "      <td>1</td>\n",
       "      <td>2</td>\n",
       "      <td>675</td>\n",
       "      <td>131</td>\n",
       "      <td>147</td>\n",
       "      <td>2</td>\n",
       "      <td>3</td>\n",
       "      <td>0.662292</td>\n",
       "      <td>-335.760337</td>\n",
       "    </tr>\n",
       "    <tr>\n",
       "      <th>889</th>\n",
       "      <td>1</td>\n",
       "      <td>0</td>\n",
       "      <td>81</td>\n",
       "      <td>1</td>\n",
       "      <td>34</td>\n",
       "      <td>0</td>\n",
       "      <td>0</td>\n",
       "      <td>8</td>\n",
       "      <td>153</td>\n",
       "      <td>60</td>\n",
       "      <td>0</td>\n",
       "      <td>0</td>\n",
       "      <td>-395.781653</td>\n",
       "      <td>298.866282</td>\n",
       "    </tr>\n",
       "    <tr>\n",
       "      <th>890</th>\n",
       "      <td>0</td>\n",
       "      <td>2</td>\n",
       "      <td>220</td>\n",
       "      <td>1</td>\n",
       "      <td>42</td>\n",
       "      <td>0</td>\n",
       "      <td>0</td>\n",
       "      <td>466</td>\n",
       "      <td>30</td>\n",
       "      <td>147</td>\n",
       "      <td>1</td>\n",
       "      <td>3</td>\n",
       "      <td>-210.141331</td>\n",
       "      <td>-153.991409</td>\n",
       "    </tr>\n",
       "  </tbody>\n",
       "</table>\n",
       "<p>891 rows × 14 columns</p>\n",
       "</div>"
      ],
      "text/plain": [
       "     Survived  Pclass  Name  Sex  Age  SibSp  Parch  Ticket  Fare  Cabin  \\\n",
       "0           0       2   108    1   28      1      0     523    18    147   \n",
       "1           1       0   190    0   51      1      0     596   207     81   \n",
       "2           1       2   353    0   34      0      0     669    41    147   \n",
       "3           1       0   272    0   47      1      0      49   189     55   \n",
       "4           0       2    15    1   47      0      0     472    43    147   \n",
       "..        ...     ...   ...  ...  ...    ...    ...     ...   ...    ...   \n",
       "886         0       1   548    1   35      0      0     101    85    147   \n",
       "887         1       0   303    0   24      0      0      14   153     30   \n",
       "888         0       2   413    0   88      1      2     675   131    147   \n",
       "889         1       0    81    1   34      0      0       8   153     60   \n",
       "890         0       2   220    1   42      0      0     466    30    147   \n",
       "\n",
       "     Embarked  clusters         pc1         pc2  \n",
       "0           2         3 -316.138795 -222.264482  \n",
       "1           0         3 -231.670801 -271.234412  \n",
       "2           2         3  -58.759840 -341.803978  \n",
       "3           2         0 -202.361650  279.371012  \n",
       "4           2         3 -413.716895 -178.952337  \n",
       "..        ...       ...         ...         ...  \n",
       "886         2         2   80.150446  243.489146  \n",
       "887         2         0 -174.836833  315.764238  \n",
       "888         2         3    0.662292 -335.760337  \n",
       "889         0         0 -395.781653  298.866282  \n",
       "890         1         3 -210.141331 -153.991409  \n",
       "\n",
       "[891 rows x 14 columns]"
      ]
     },
     "execution_count": 42,
     "metadata": {},
     "output_type": "execute_result"
    }
   ],
   "source": [
    "all_data"
   ]
  },
  {
   "cell_type": "code",
   "execution_count": 43,
   "metadata": {
    "colab": {
     "base_uri": "https://localhost:8080/",
     "height": 449
    },
    "id": "w3FTxzYOgaWH",
    "outputId": "c6796716-c449-46d3-b2dd-3fdc4299f5f8"
   },
   "outputs": [
    {
     "data": {
      "image/png": "[encoded data removed]",
      "text/plain": [
       "<Figure size 640x480 with 1 Axes>"
      ]
     },
     "metadata": {},
     "output_type": "display_data"
    }
   ],
   "source": [
    "visualize_clusters('clusters')"
   ]
  },
  {
   "cell_type": "code",
   "execution_count": 17,
   "metadata": {
    "colab": {
     "base_uri": "https://localhost:8080/"
    },
    "id": "x0XGuC4Wgtct",
    "outputId": "ad190541-47a0-4f28-a137-d6530befc01c"
   },
   "outputs": [
    {
     "name": "stderr",
     "output_type": "stream",
     "text": [
      "D:\\snakes\\lib\\site-packages\\sklearn\\cluster\\_kmeans.py:870: FutureWarning: The default value of `n_init` will change from 10 to 'auto' in 1.4. Set the value of `n_init` explicitly to suppress the warning\n",
      "  warnings.warn(\n",
      "D:\\snakes\\lib\\site-packages\\sklearn\\cluster\\_kmeans.py:870: FutureWarning: The default value of `n_init` will change from 10 to 'auto' in 1.4. Set the value of `n_init` explicitly to suppress the warning\n",
      "  warnings.warn(\n",
      "D:\\snakes\\lib\\site-packages\\sklearn\\cluster\\_kmeans.py:870: FutureWarning: The default value of `n_init` will change from 10 to 'auto' in 1.4. Set the value of `n_init` explicitly to suppress the warning\n",
      "  warnings.warn(\n",
      "D:\\snakes\\lib\\site-packages\\sklearn\\cluster\\_kmeans.py:870: FutureWarning: The default value of `n_init` will change from 10 to 'auto' in 1.4. Set the value of `n_init` explicitly to suppress the warning\n",
      "  warnings.warn(\n",
      "D:\\snakes\\lib\\site-packages\\sklearn\\cluster\\_kmeans.py:870: FutureWarning: The default value of `n_init` will change from 10 to 'auto' in 1.4. Set the value of `n_init` explicitly to suppress the warning\n",
      "  warnings.warn(\n",
      "D:\\snakes\\lib\\site-packages\\sklearn\\cluster\\_kmeans.py:870: FutureWarning: The default value of `n_init` will change from 10 to 'auto' in 1.4. Set the value of `n_init` explicitly to suppress the warning\n",
      "  warnings.warn(\n",
      "D:\\snakes\\lib\\site-packages\\sklearn\\cluster\\_kmeans.py:870: FutureWarning: The default value of `n_init` will change from 10 to 'auto' in 1.4. Set the value of `n_init` explicitly to suppress the warning\n",
      "  warnings.warn(\n",
      "D:\\snakes\\lib\\site-packages\\sklearn\\cluster\\_kmeans.py:870: FutureWarning: The default value of `n_init` will change from 10 to 'auto' in 1.4. Set the value of `n_init` explicitly to suppress the warning\n",
      "  warnings.warn(\n",
      "D:\\snakes\\lib\\site-packages\\sklearn\\cluster\\_kmeans.py:870: FutureWarning: The default value of `n_init` will change from 10 to 'auto' in 1.4. Set the value of `n_init` explicitly to suppress the warning\n",
      "  warnings.warn(\n",
      "D:\\snakes\\lib\\site-packages\\sklearn\\cluster\\_kmeans.py:870: FutureWarning: The default value of `n_init` will change from 10 to 'auto' in 1.4. Set the value of `n_init` explicitly to suppress the warning\n",
      "  warnings.warn(\n"
     ]
    }
   ],
   "source": [
    "clustering_score = []\n",
    "for i in range(1, 11):\n",
    "    kmeans = KMeans(n_clusters = i, init = 'random', random_state = 42)\n",
    "    kmeans.fit(df)\n",
    "    clustering_score.append(kmeans.inertia_) \n",
    "\n",
    "\n",
    "  "
   ]
  },
  {
   "cell_type": "code",
   "execution_count": 18,
   "metadata": {
    "colab": {
     "base_uri": "https://localhost:8080/"
    },
    "id": "CxKt0bq7hhJQ",
    "outputId": "1ea56787-e542-4402-9622-529e76108452"
   },
   "outputs": [
    {
     "data": {
      "text/plain": [
       "[100960031.28619523,\n",
       " 56580115.05698447,\n",
       " 38960311.77334583,\n",
       " 28721757.583925217,\n",
       " 24241031.39771663,\n",
       " 20651260.019696973,\n",
       " 18403712.736401077,\n",
       " 16526022.484101541,\n",
       " 14896080.46759164,\n",
       " 13777922.643254835]"
      ]
     },
     "execution_count": 18,
     "metadata": {},
     "output_type": "execute_result"
    }
   ],
   "source": [
    "clustering_score"
   ]
  },
  {
   "cell_type": "code",
   "execution_count": 19,
   "metadata": {
    "colab": {
     "base_uri": "https://localhost:8080/",
     "height": 564
    },
    "id": "WHyl1PL1hi0F",
    "outputId": "375d59a6-232e-4c62-c267-a5aeac3c9598"
   },
   "outputs": [
    {
     "data": {
      "image/png": "[encoded data removed]",
      "text/plain": [
       "<Figure size 1000x600 with 1 Axes>"
      ]
     },
     "metadata": {},
     "output_type": "display_data"
    }
   ],
   "source": [
    "\n",
    "plt.figure(figsize=(10,6))\n",
    "plt.plot(range(1, 11), clustering_score)\n",
    "plt.scatter(5,clustering_score[4], s = 200, c = 'red', marker='*')\n",
    "plt.title('The Elbow Method')\n",
    "plt.xlabel('No. of Clusters')\n",
    "plt.ylabel('Clustering Score')\n",
    "plt.show()"
   ]
  },
  {
   "cell_type": "code",
   "execution_count": 34,
   "metadata": {
    "id": "B0TyJZLZhpYa"
   },
   "outputs": [],
   "source": []
  },
  {
   "cell_type": "code",
   "execution_count": null,
   "metadata": {},
   "outputs": [],
   "source": []
  }
 ],
 "metadata": {
  "colab": {
   "provenance": []
  },
  "kernelspec": {
   "display_name": "Python 3 (ipykernel)",
   "language": "python",
   "name": "python3"
  },
  "language_info": {
   "codemirror_mode": {
    "name": "ipython",
    "version": 3
   },
   "file_extension": ".py",
   "mimetype": "text/x-python",
   "name": "python",
   "nbconvert_exporter": "python",
   "pygments_lexer": "ipython3",
   "version": "3.10.9"
  }
 },
 "nbformat": 4,
 "nbformat_minor": 1
}
